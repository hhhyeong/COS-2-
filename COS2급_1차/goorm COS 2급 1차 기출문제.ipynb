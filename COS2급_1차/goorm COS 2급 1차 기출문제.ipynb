{
 "cells": [
  {
   "cell_type": "markdown",
   "id": "da6dfd88",
   "metadata": {},
   "source": [
    "### COS PRO 2차 Python 1차"
   ]
  },
  {
   "cell_type": "markdown",
   "id": "b107e2dc",
   "metadata": {},
   "source": [
    "#### [구현] 문제1) 단체 티셔츠를 주문하기"
   ]
  },
  {
   "cell_type": "code",
   "execution_count": 29,
   "id": "eff929bd",
   "metadata": {},
   "outputs": [],
   "source": [
    "# -*- coding: utf-8 -*-\n",
    "# UTF-8 encoding when using korean\n",
    "shirt_size = [\"XS\", \"S\", \"L\", \"L\",\"XL\",\"S\"]\n",
    "def solution(shirt_size):\n",
    "    answer = [0,0,0,0,0,0]\n",
    "    shirtsizelen = len(shirt_size)\n",
    "    for i in range(0, shirtsizelen):\n",
    "        print(str(i) + \" : \" + shirt_size[i]);\n",
    "        if shirt_size[i] == \"XS\":\n",
    "            answer[0] += 1;\n",
    "        elif shirt_size[i] == \"S\":\n",
    "            answer[1] += 1;\n",
    "        elif shirt_size[i] == \"M\":\n",
    "            answer[2] += 1;\n",
    "        elif shirt_size[i] == \"L\":\n",
    "            answer[3] += 1;\n",
    "        elif shirt_size[i] == \"XL\":\n",
    "            answer[4] += 1;\n",
    "        elif shirt_size[i] == \"XXL\":\n",
    "            answer[5] += 1;\n",
    "    return answer"
   ]
  },
  {
   "cell_type": "code",
   "execution_count": 30,
   "id": "95bff5fa",
   "metadata": {},
   "outputs": [
    {
     "name": "stdout",
     "output_type": "stream",
     "text": [
      "0 : XS\n",
      "1 : S\n",
      "2 : L\n",
      "3 : L\n",
      "4 : XL\n",
      "5 : S\n"
     ]
    },
    {
     "data": {
      "text/plain": [
       "[1, 2, 0, 2, 1, 0]"
      ]
     },
     "execution_count": 30,
     "metadata": {},
     "output_type": "execute_result"
    }
   ],
   "source": [
    "solution(shirt_size)"
   ]
  },
  {
   "cell_type": "code",
   "execution_count": 14,
   "id": "19162435",
   "metadata": {},
   "outputs": [],
   "source": [
    "shirt_size = [1,2,3]\n",
    "answer=[0,0,0]\n",
    "for i in range(0, len(shirt_size)):\n",
    "    if shirt_size[i] == 1:\n",
    "        answer[0] += 1;\n",
    "    elif shirt_size[i] == 2:\n",
    "        answer[1] += 1;\n",
    "    elif shirt_size[i] == 3:\n",
    "        answer[2] += 1;"
   ]
  },
  {
   "cell_type": "code",
   "execution_count": 15,
   "id": "bab005e6",
   "metadata": {},
   "outputs": [
    {
     "data": {
      "text/plain": [
       "[1, 1, 1]"
      ]
     },
     "execution_count": 15,
     "metadata": {},
     "output_type": "execute_result"
    }
   ],
   "source": [
    "answer"
   ]
  },
  {
   "cell_type": "raw",
   "id": "bb784640",
   "metadata": {},
   "source": [
    "##### answer = [\"xs\"]\n",
    "if answer[0] == \"xs\":\n",
    "    print(\"true\")"
   ]
  },
  {
   "cell_type": "markdown",
   "id": "eab5bcdb",
   "metadata": {},
   "source": [
    "#### [구현] 문제2) 쇼핑몰 등급별 할인 금액구하기"
   ]
  },
  {
   "cell_type": "code",
   "execution_count": 8,
   "id": "1fde1c45",
   "metadata": {},
   "outputs": [],
   "source": [
    "def solution(price, grade):\n",
    "    answer = 0\n",
    "    if grade == \"S\":\n",
    "        answer = int(price * 0.95)\n",
    "    elif grade == \"G\":\n",
    "        answer = int(price * 0.90)\n",
    "    else:\n",
    "        answer = int(price * 0.85)\n",
    "    return answer"
   ]
  },
  {
   "cell_type": "code",
   "execution_count": 9,
   "id": "be39801d",
   "metadata": {},
   "outputs": [
    {
     "name": "stdout",
     "output_type": "stream",
     "text": [
      "solution 함수의 반환 값은 2125 입니다.\n"
     ]
    }
   ],
   "source": [
    "price1 = 2500\n",
    "grade1 = \"V\"\n",
    "ret1 = solution(price1, grade1)\n",
    "print(\"solution 함수의 반환 값은\", ret1,\"입니다.\")"
   ]
  },
  {
   "cell_type": "code",
   "execution_count": 10,
   "id": "c613b369",
   "metadata": {},
   "outputs": [
    {
     "name": "stdout",
     "output_type": "stream",
     "text": [
      "solution 함수의 반환 값은 92055 입니다.\n"
     ]
    }
   ],
   "source": [
    "price2 = 96900\n",
    "grade2 = \"S\"\n",
    "ret2 = solution(price2, grade2)\n",
    "print(\"solution 함수의 반환 값은\", ret2,\"입니다.\")"
   ]
  },
  {
   "cell_type": "code",
   "execution_count": null,
   "id": "882c7d1f",
   "metadata": {},
   "outputs": [],
   "source": []
  }
 ],
 "metadata": {
  "kernelspec": {
   "display_name": "Python 3 (ipykernel)",
   "language": "python",
   "name": "python3"
  },
  "language_info": {
   "codemirror_mode": {
    "name": "ipython",
    "version": 3
   },
   "file_extension": ".py",
   "mimetype": "text/x-python",
   "name": "python",
   "nbconvert_exporter": "python",
   "pygments_lexer": "ipython3",
   "version": "3.9.1"
  }
 },
 "nbformat": 4,
 "nbformat_minor": 5
}
